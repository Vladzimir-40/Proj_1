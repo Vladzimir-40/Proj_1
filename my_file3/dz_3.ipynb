{
  "nbformat": 4,
  "nbformat_minor": 0,
  "metadata": {
    "colab": {
      "provenance": [],
      "authorship_tag": "ABX9TyNmXCs7ZfmbV3HSfyCLS/2A",
      "include_colab_link": true
    },
    "kernelspec": {
      "name": "python3",
      "display_name": "Python 3"
    },
    "language_info": {
      "name": "python"
    }
  },
  "cells": [
    {
      "cell_type": "markdown",
      "metadata": {
        "id": "view-in-github",
        "colab_type": "text"
      },
      "source": [
        "<a href=\"https://colab.research.google.com/github/Vladzimir-40/Proj_1/blob/main/my_file3/dz_3.ipynb\" target=\"_parent\"><img src=\"https://colab.research.google.com/assets/colab-badge.svg\" alt=\"Open In Colab\"/></a>"
      ]
    },
    {
      "cell_type": "code",
      "source": [
        "\n",
        "!pip install kagglehub\n",
        "\n",
        "from google.colab import files\n",
        "files.upload() # Загрузите файл kaggle.json"
      ],
      "metadata": {
        "colab": {
          "base_uri": "https://localhost:8080/",
          "height": 246
        },
        "id": "HM1q4lflpJ-d",
        "outputId": "6ceafead-9495-46e8-ab09-ab556200c6cc"
      },
      "execution_count": 1,
      "outputs": [
        {
          "output_type": "stream",
          "name": "stdout",
          "text": [
            "Requirement already satisfied: kagglehub in /usr/local/lib/python3.12/dist-packages (0.3.13)\n",
            "Requirement already satisfied: packaging in /usr/local/lib/python3.12/dist-packages (from kagglehub) (25.0)\n",
            "Requirement already satisfied: pyyaml in /usr/local/lib/python3.12/dist-packages (from kagglehub) (6.0.2)\n",
            "Requirement already satisfied: requests in /usr/local/lib/python3.12/dist-packages (from kagglehub) (2.32.4)\n",
            "Requirement already satisfied: tqdm in /usr/local/lib/python3.12/dist-packages (from kagglehub) (4.67.1)\n",
            "Requirement already satisfied: charset_normalizer<4,>=2 in /usr/local/lib/python3.12/dist-packages (from requests->kagglehub) (3.4.3)\n",
            "Requirement already satisfied: idna<4,>=2.5 in /usr/local/lib/python3.12/dist-packages (from requests->kagglehub) (3.10)\n",
            "Requirement already satisfied: urllib3<3,>=1.21.1 in /usr/local/lib/python3.12/dist-packages (from requests->kagglehub) (2.5.0)\n",
            "Requirement already satisfied: certifi>=2017.4.17 in /usr/local/lib/python3.12/dist-packages (from requests->kagglehub) (2025.8.3)\n"
          ]
        },
        {
          "output_type": "display_data",
          "data": {
            "text/plain": [
              "<IPython.core.display.HTML object>"
            ],
            "text/html": [
              "\n",
              "     <input type=\"file\" id=\"files-c10a872c-d6bd-4ab4-ab59-1e11a041b0af\" name=\"files[]\" multiple disabled\n",
              "        style=\"border:none\" />\n",
              "     <output id=\"result-c10a872c-d6bd-4ab4-ab59-1e11a041b0af\">\n",
              "      Upload widget is only available when the cell has been executed in the\n",
              "      current browser session. Please rerun this cell to enable.\n",
              "      </output>\n",
              "      <script>// Copyright 2017 Google LLC\n",
              "//\n",
              "// Licensed under the Apache License, Version 2.0 (the \"License\");\n",
              "// you may not use this file except in compliance with the License.\n",
              "// You may obtain a copy of the License at\n",
              "//\n",
              "//      http://www.apache.org/licenses/LICENSE-2.0\n",
              "//\n",
              "// Unless required by applicable law or agreed to in writing, software\n",
              "// distributed under the License is distributed on an \"AS IS\" BASIS,\n",
              "// WITHOUT WARRANTIES OR CONDITIONS OF ANY KIND, either express or implied.\n",
              "// See the License for the specific language governing permissions and\n",
              "// limitations under the License.\n",
              "\n",
              "/**\n",
              " * @fileoverview Helpers for google.colab Python module.\n",
              " */\n",
              "(function(scope) {\n",
              "function span(text, styleAttributes = {}) {\n",
              "  const element = document.createElement('span');\n",
              "  element.textContent = text;\n",
              "  for (const key of Object.keys(styleAttributes)) {\n",
              "    element.style[key] = styleAttributes[key];\n",
              "  }\n",
              "  return element;\n",
              "}\n",
              "\n",
              "// Max number of bytes which will be uploaded at a time.\n",
              "const MAX_PAYLOAD_SIZE = 100 * 1024;\n",
              "\n",
              "function _uploadFiles(inputId, outputId) {\n",
              "  const steps = uploadFilesStep(inputId, outputId);\n",
              "  const outputElement = document.getElementById(outputId);\n",
              "  // Cache steps on the outputElement to make it available for the next call\n",
              "  // to uploadFilesContinue from Python.\n",
              "  outputElement.steps = steps;\n",
              "\n",
              "  return _uploadFilesContinue(outputId);\n",
              "}\n",
              "\n",
              "// This is roughly an async generator (not supported in the browser yet),\n",
              "// where there are multiple asynchronous steps and the Python side is going\n",
              "// to poll for completion of each step.\n",
              "// This uses a Promise to block the python side on completion of each step,\n",
              "// then passes the result of the previous step as the input to the next step.\n",
              "function _uploadFilesContinue(outputId) {\n",
              "  const outputElement = document.getElementById(outputId);\n",
              "  const steps = outputElement.steps;\n",
              "\n",
              "  const next = steps.next(outputElement.lastPromiseValue);\n",
              "  return Promise.resolve(next.value.promise).then((value) => {\n",
              "    // Cache the last promise value to make it available to the next\n",
              "    // step of the generator.\n",
              "    outputElement.lastPromiseValue = value;\n",
              "    return next.value.response;\n",
              "  });\n",
              "}\n",
              "\n",
              "/**\n",
              " * Generator function which is called between each async step of the upload\n",
              " * process.\n",
              " * @param {string} inputId Element ID of the input file picker element.\n",
              " * @param {string} outputId Element ID of the output display.\n",
              " * @return {!Iterable<!Object>} Iterable of next steps.\n",
              " */\n",
              "function* uploadFilesStep(inputId, outputId) {\n",
              "  const inputElement = document.getElementById(inputId);\n",
              "  inputElement.disabled = false;\n",
              "\n",
              "  const outputElement = document.getElementById(outputId);\n",
              "  outputElement.innerHTML = '';\n",
              "\n",
              "  const pickedPromise = new Promise((resolve) => {\n",
              "    inputElement.addEventListener('change', (e) => {\n",
              "      resolve(e.target.files);\n",
              "    });\n",
              "  });\n",
              "\n",
              "  const cancel = document.createElement('button');\n",
              "  inputElement.parentElement.appendChild(cancel);\n",
              "  cancel.textContent = 'Cancel upload';\n",
              "  const cancelPromise = new Promise((resolve) => {\n",
              "    cancel.onclick = () => {\n",
              "      resolve(null);\n",
              "    };\n",
              "  });\n",
              "\n",
              "  // Wait for the user to pick the files.\n",
              "  const files = yield {\n",
              "    promise: Promise.race([pickedPromise, cancelPromise]),\n",
              "    response: {\n",
              "      action: 'starting',\n",
              "    }\n",
              "  };\n",
              "\n",
              "  cancel.remove();\n",
              "\n",
              "  // Disable the input element since further picks are not allowed.\n",
              "  inputElement.disabled = true;\n",
              "\n",
              "  if (!files) {\n",
              "    return {\n",
              "      response: {\n",
              "        action: 'complete',\n",
              "      }\n",
              "    };\n",
              "  }\n",
              "\n",
              "  for (const file of files) {\n",
              "    const li = document.createElement('li');\n",
              "    li.append(span(file.name, {fontWeight: 'bold'}));\n",
              "    li.append(span(\n",
              "        `(${file.type || 'n/a'}) - ${file.size} bytes, ` +\n",
              "        `last modified: ${\n",
              "            file.lastModifiedDate ? file.lastModifiedDate.toLocaleDateString() :\n",
              "                                    'n/a'} - `));\n",
              "    const percent = span('0% done');\n",
              "    li.appendChild(percent);\n",
              "\n",
              "    outputElement.appendChild(li);\n",
              "\n",
              "    const fileDataPromise = new Promise((resolve) => {\n",
              "      const reader = new FileReader();\n",
              "      reader.onload = (e) => {\n",
              "        resolve(e.target.result);\n",
              "      };\n",
              "      reader.readAsArrayBuffer(file);\n",
              "    });\n",
              "    // Wait for the data to be ready.\n",
              "    let fileData = yield {\n",
              "      promise: fileDataPromise,\n",
              "      response: {\n",
              "        action: 'continue',\n",
              "      }\n",
              "    };\n",
              "\n",
              "    // Use a chunked sending to avoid message size limits. See b/62115660.\n",
              "    let position = 0;\n",
              "    do {\n",
              "      const length = Math.min(fileData.byteLength - position, MAX_PAYLOAD_SIZE);\n",
              "      const chunk = new Uint8Array(fileData, position, length);\n",
              "      position += length;\n",
              "\n",
              "      const base64 = btoa(String.fromCharCode.apply(null, chunk));\n",
              "      yield {\n",
              "        response: {\n",
              "          action: 'append',\n",
              "          file: file.name,\n",
              "          data: base64,\n",
              "        },\n",
              "      };\n",
              "\n",
              "      let percentDone = fileData.byteLength === 0 ?\n",
              "          100 :\n",
              "          Math.round((position / fileData.byteLength) * 100);\n",
              "      percent.textContent = `${percentDone}% done`;\n",
              "\n",
              "    } while (position < fileData.byteLength);\n",
              "  }\n",
              "\n",
              "  // All done.\n",
              "  yield {\n",
              "    response: {\n",
              "      action: 'complete',\n",
              "    }\n",
              "  };\n",
              "}\n",
              "\n",
              "scope.google = scope.google || {};\n",
              "scope.google.colab = scope.google.colab || {};\n",
              "scope.google.colab._files = {\n",
              "  _uploadFiles,\n",
              "  _uploadFilesContinue,\n",
              "};\n",
              "})(self);\n",
              "</script> "
            ]
          },
          "metadata": {}
        },
        {
          "output_type": "stream",
          "name": "stdout",
          "text": [
            "Saving kaggle.json to kaggle.json\n"
          ]
        },
        {
          "output_type": "execute_result",
          "data": {
            "text/plain": [
              "{'kaggle.json': b'{\"username\":\"vladimir401011\",\"key\":\"e6b9eec8a00a0a7c2c3e5fcbd033ab06\"}'}"
            ]
          },
          "metadata": {},
          "execution_count": 1
        }
      ]
    },
    {
      "cell_type": "code",
      "execution_count": 3,
      "metadata": {
        "colab": {
          "base_uri": "https://localhost:8080/"
        },
        "id": "OuteOBt4kyN7",
        "outputId": "0e27ccb2-be74-434d-93f3-b0a1b0df9a9f"
      },
      "outputs": [
        {
          "output_type": "stream",
          "name": "stdout",
          "text": [
            "Downloading from https://www.kaggle.com/api/v1/datasets/download/zadafiyabhrami/global-crocodile-species-dataset?dataset_version_number=1...\n"
          ]
        },
        {
          "output_type": "stream",
          "name": "stderr",
          "text": [
            "100%|██████████| 56.1k/56.1k [00:00<00:00, 32.0MB/s]"
          ]
        },
        {
          "output_type": "stream",
          "name": "stdout",
          "text": [
            "Extracting files...\n",
            "Path to dataset files: /root/.cache/kagglehub/datasets/zadafiyabhrami/global-crocodile-species-dataset/versions/1\n",
            "\n",
            "Загруженные файлы:\n",
            "📁 crocodile_dataset.csv\n"
          ]
        },
        {
          "output_type": "stream",
          "name": "stderr",
          "text": [
            "\n"
          ]
        }
      ],
      "source": [
        "import pandas as pd\n",
        "import kagglehub\n",
        "import os\n",
        "\n",
        "class Data_loading:\n",
        "    @staticmethod\n",
        "    def load_from_kaggle(dataset_path, filename):\n",
        "        \"\"\"\n",
        "        Загружает dataset из Kaggle используя kagglehub\n",
        "\n",
        "        Args:\n",
        "            dataset_path (str): путь к dataset на Kaggle\n",
        "            filename (str): название файла для загрузки\n",
        "\n",
        "        Returns:\n",
        "            pd.DataFrame: загруженный датафрейм\n",
        "        \"\"\"\n",
        "        download_path = kagglehub.dataset_download(dataset_path)\n",
        "        file_path = os.path.join(download_path, filename)\n",
        "        return pd.read_csv(file_path)\n",
        "\n",
        "\n",
        "import kagglehub\n",
        "\n",
        "# Download latest version\n",
        "path = kagglehub.dataset_download(\"zadafiyabhrami/global-crocodile-species-dataset\")\n",
        "\n",
        "print(\"Path to dataset files:\", path)\n",
        "print(\"\\nЗагруженные файлы:\")\n",
        "for file in os.listdir(path):\n",
        "    print(f\"📁 {file}\")\n"
      ]
    },
    {
      "cell_type": "markdown",
      "source": [
        "Плучаем датафрейм через статический метод, в который передем \"путь\" и \"имя csv-файла\""
      ],
      "metadata": {
        "id": "XD6XZkGSx7us"
      }
    },
    {
      "cell_type": "code",
      "source": [
        "df = Data_loading.load_from_kaggle(\"zadafiyabhrami/global-crocodile-species-dataset\", \"crocodile_dataset.csv\")"
      ],
      "metadata": {
        "colab": {
          "base_uri": "https://localhost:8080/"
        },
        "id": "I40DCtx-xAok",
        "outputId": "1febe5cc-fe78-45d6-ef51-4c1e446dca9c"
      },
      "execution_count": 4,
      "outputs": [
        {
          "output_type": "stream",
          "name": "stdout",
          "text": [
            "Using Colab cache for faster access to the 'global-crocodile-species-dataset' dataset.\n"
          ]
        }
      ]
    },
    {
      "cell_type": "code",
      "source": [
        "# Просматриваем первые несколько строк датасета\n",
        "print(df.head())\n",
        "\n",
        "# Получаем общую информацию о датасете\n",
        "print(df.info())"
      ],
      "metadata": {
        "colab": {
          "base_uri": "https://localhost:8080/"
        },
        "id": "dDsvQDoRxcIk",
        "outputId": "fcce84a1-4b8f-4a8a-cf00-dc5b102389be"
      },
      "execution_count": 6,
      "outputs": [
        {
          "output_type": "stream",
          "name": "stdout",
          "text": [
            "   Observation ID                         Common Name         Scientific Name  \\\n",
            "0               1                 Morelet's Crocodile    Crocodylus moreletii   \n",
            "1               2                  American Crocodile       Crocodylus acutus   \n",
            "2               3                   Orinoco Crocodile  Crocodylus intermedius   \n",
            "3               4                 Morelet's Crocodile    Crocodylus moreletii   \n",
            "4               5  Mugger Crocodile (Marsh Crocodile)    Crocodylus palustris   \n",
            "\n",
            "         Family       Genus  Observed Length (m)  Observed Weight (kg)  \\\n",
            "0  Crocodylidae  Crocodylus                 1.90                  62.0   \n",
            "1  Crocodylidae  Crocodylus                 4.09                 334.5   \n",
            "2  Crocodylidae  Crocodylus                 1.08                 118.2   \n",
            "3  Crocodylidae  Crocodylus                 2.42                  90.4   \n",
            "4  Crocodylidae  Crocodylus                 3.75                 269.4   \n",
            "\n",
            "  Age Class      Sex Date of Observation Country/Region      Habitat Type  \\\n",
            "0     Adult     Male          31-03-2018         Belize            Swamps   \n",
            "1     Adult     Male          28-01-2015      Venezuela         Mangroves   \n",
            "2  Juvenile  Unknown          07-12-2010      Venezuela  Flooded Savannas   \n",
            "3     Adult     Male          01-11-2019         Mexico            Rivers   \n",
            "4     Adult  Unknown          15-07-2019          India            Rivers   \n",
            "\n",
            "     Conservation Status     Observer Name  \\\n",
            "0          Least Concern      Allison Hill   \n",
            "1             Vulnerable      Brandon Hall   \n",
            "2  Critically Endangered  Melissa Peterson   \n",
            "3          Least Concern     Edward Fuller   \n",
            "4             Vulnerable       Donald Reid   \n",
            "\n",
            "                                               Notes  \n",
            "0           Cause bill scientist nation opportunity.  \n",
            "1  Ago current practice nation determine operatio...  \n",
            "2  Democratic shake bill here grow gas enough ana...  \n",
            "3        Officer relate animal direction eye bag do.  \n",
            "4  Class great prove reduce raise author play mov...  \n",
            "<class 'pandas.core.frame.DataFrame'>\n",
            "RangeIndex: 1000 entries, 0 to 999\n",
            "Data columns (total 15 columns):\n",
            " #   Column                Non-Null Count  Dtype  \n",
            "---  ------                --------------  -----  \n",
            " 0   Observation ID        1000 non-null   int64  \n",
            " 1   Common Name           1000 non-null   object \n",
            " 2   Scientific Name       1000 non-null   object \n",
            " 3   Family                1000 non-null   object \n",
            " 4   Genus                 1000 non-null   object \n",
            " 5   Observed Length (m)   1000 non-null   float64\n",
            " 6   Observed Weight (kg)  1000 non-null   float64\n",
            " 7   Age Class             1000 non-null   object \n",
            " 8   Sex                   1000 non-null   object \n",
            " 9   Date of Observation   1000 non-null   object \n",
            " 10  Country/Region        1000 non-null   object \n",
            " 11  Habitat Type          1000 non-null   object \n",
            " 12  Conservation Status   1000 non-null   object \n",
            " 13  Observer Name         1000 non-null   object \n",
            " 14  Notes                 1000 non-null   object \n",
            "dtypes: float64(2), int64(1), object(12)\n",
            "memory usage: 117.3+ KB\n",
            "None\n"
          ]
        }
      ]
    },
    {
      "cell_type": "markdown",
      "source": [
        "Создание базы данных"
      ],
      "metadata": {
        "id": "6gNnrsQl0THE"
      }
    },
    {
      "cell_type": "code",
      "source": [
        "import sqlite3\n",
        "\n",
        "# Подключение к SQLite базе данных (или создание, если не существует)\n",
        "conn = sqlite3.connect('crocodiles.db')"
      ],
      "metadata": {
        "id": "Rx2Dq_9-AoGs"
      },
      "execution_count": null,
      "outputs": []
    },
    {
      "cell_type": "markdown",
      "source": [
        "Делаем таблицу"
      ],
      "metadata": {
        "id": "auJks9sg0lqU"
      }
    },
    {
      "cell_type": "code",
      "source": [
        "# Создание курсора\n",
        "cursor = conn.cursor()\n",
        "\n",
        "# Создание таблицы \"crocodile_inhabitants\" (содержит всю информацию об местах обитания крокодилов)\n",
        "cursor.execute('''CREATE TABLE IF NOT EXISTS crocodile_inhabitants (\n",
        "    crocodile_id INTEGER PRIMARY KEY,\n",
        "    common_name VARCHAR(30) NOT NULL,\n",
        "    scient_name VARCHAR(30) NOT NULL,\n",
        "    observ_length_m NUMERIC,\n",
        "    observ_weight_kg NUMERIC,\n",
        "    age_class VARCHAR(20),\n",
        "    sex VARCHAR(10),\n",
        "    date_of_obs VARCHAR(10),\n",
        "    country_region VARCHAR(30),\n",
        "    habitat_type VARCHAR(30)\n",
        ")''')\n",
        "\n",
        "conn.commit()"
      ],
      "metadata": {
        "id": "u2GzthGP0p5M"
      },
      "execution_count": 9,
      "outputs": []
    },
    {
      "cell_type": "markdown",
      "source": [
        "Делаем вставку в БД crocodiles.db, в таблицу данных crocodile_inhabitants из df"
      ],
      "metadata": {
        "id": "qEy47qHe-4Dc"
      }
    },
    {
      "cell_type": "code",
      "source": [
        "cursor = conn.cursor()\n",
        "\n",
        "data_f = df[['Observation ID', 'Common Name', 'Scientific Name', 'Observed Length (m)',\n",
        "             'Observed Weight (kg)', 'Age Class', 'Sex', 'Date of Observation',\n",
        "             'Country/Region', 'Habitat Type']].values.tolist()\n",
        "\n",
        "cursor.executemany('''INSERT INTO crocodile_inhabitants\n",
        "                   (crocodile_id, common_name, scient_name, observ_length_m,\n",
        "                    observ_weight_kg, age_class, sex, date_of_obs,\n",
        "                    country_region, habitat_type)\n",
        "                   VALUES (?, ?, ?, ?, ?, ?, ?, ?, ?, ?)''', data_f)\n",
        "\n",
        "conn.commit()"
      ],
      "metadata": {
        "id": "A3_0Gbm8-877"
      },
      "execution_count": 10,
      "outputs": []
    }
  ]
}