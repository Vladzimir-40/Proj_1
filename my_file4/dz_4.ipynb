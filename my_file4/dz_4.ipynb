{
  "nbformat": 4,
  "nbformat_minor": 0,
  "metadata": {
    "colab": {
      "provenance": [],
      "authorship_tag": "ABX9TyPkfnJxVyEC3kZMe89RaJtj",
      "include_colab_link": true
    },
    "kernelspec": {
      "name": "python3",
      "display_name": "Python 3"
    },
    "language_info": {
      "name": "python"
    }
  },
  "cells": [
    {
      "cell_type": "markdown",
      "metadata": {
        "id": "view-in-github",
        "colab_type": "text"
      },
      "source": [
        "<a href=\"https://colab.research.google.com/github/Vladzimir-40/Proj_1/blob/main/my_file4/dz_4.ipynb\" target=\"_parent\"><img src=\"https://colab.research.google.com/assets/colab-badge.svg\" alt=\"Open In Colab\"/></a>"
      ]
    },
    {
      "cell_type": "code",
      "execution_count": 1,
      "metadata": {
        "colab": {
          "base_uri": "https://localhost:8080/",
          "height": 246
        },
        "id": "jvnXu9W1NEY5",
        "outputId": "cfda64a1-2ded-4e75-a6c1-e266ec99d398"
      },
      "outputs": [
        {
          "output_type": "stream",
          "name": "stdout",
          "text": [
            "Requirement already satisfied: kagglehub in /usr/local/lib/python3.12/dist-packages (0.3.13)\n",
            "Requirement already satisfied: packaging in /usr/local/lib/python3.12/dist-packages (from kagglehub) (25.0)\n",
            "Requirement already satisfied: pyyaml in /usr/local/lib/python3.12/dist-packages (from kagglehub) (6.0.2)\n",
            "Requirement already satisfied: requests in /usr/local/lib/python3.12/dist-packages (from kagglehub) (2.32.4)\n",
            "Requirement already satisfied: tqdm in /usr/local/lib/python3.12/dist-packages (from kagglehub) (4.67.1)\n",
            "Requirement already satisfied: charset_normalizer<4,>=2 in /usr/local/lib/python3.12/dist-packages (from requests->kagglehub) (3.4.3)\n",
            "Requirement already satisfied: idna<4,>=2.5 in /usr/local/lib/python3.12/dist-packages (from requests->kagglehub) (3.10)\n",
            "Requirement already satisfied: urllib3<3,>=1.21.1 in /usr/local/lib/python3.12/dist-packages (from requests->kagglehub) (2.5.0)\n",
            "Requirement already satisfied: certifi>=2017.4.17 in /usr/local/lib/python3.12/dist-packages (from requests->kagglehub) (2025.8.3)\n"
          ]
        },
        {
          "output_type": "display_data",
          "data": {
            "text/plain": [
              "<IPython.core.display.HTML object>"
            ],
            "text/html": [
              "\n",
              "     <input type=\"file\" id=\"files-384c3e2f-7af0-4f71-8fb9-10b1cccb152d\" name=\"files[]\" multiple disabled\n",
              "        style=\"border:none\" />\n",
              "     <output id=\"result-384c3e2f-7af0-4f71-8fb9-10b1cccb152d\">\n",
              "      Upload widget is only available when the cell has been executed in the\n",
              "      current browser session. Please rerun this cell to enable.\n",
              "      </output>\n",
              "      <script>// Copyright 2017 Google LLC\n",
              "//\n",
              "// Licensed under the Apache License, Version 2.0 (the \"License\");\n",
              "// you may not use this file except in compliance with the License.\n",
              "// You may obtain a copy of the License at\n",
              "//\n",
              "//      http://www.apache.org/licenses/LICENSE-2.0\n",
              "//\n",
              "// Unless required by applicable law or agreed to in writing, software\n",
              "// distributed under the License is distributed on an \"AS IS\" BASIS,\n",
              "// WITHOUT WARRANTIES OR CONDITIONS OF ANY KIND, either express or implied.\n",
              "// See the License for the specific language governing permissions and\n",
              "// limitations under the License.\n",
              "\n",
              "/**\n",
              " * @fileoverview Helpers for google.colab Python module.\n",
              " */\n",
              "(function(scope) {\n",
              "function span(text, styleAttributes = {}) {\n",
              "  const element = document.createElement('span');\n",
              "  element.textContent = text;\n",
              "  for (const key of Object.keys(styleAttributes)) {\n",
              "    element.style[key] = styleAttributes[key];\n",
              "  }\n",
              "  return element;\n",
              "}\n",
              "\n",
              "// Max number of bytes which will be uploaded at a time.\n",
              "const MAX_PAYLOAD_SIZE = 100 * 1024;\n",
              "\n",
              "function _uploadFiles(inputId, outputId) {\n",
              "  const steps = uploadFilesStep(inputId, outputId);\n",
              "  const outputElement = document.getElementById(outputId);\n",
              "  // Cache steps on the outputElement to make it available for the next call\n",
              "  // to uploadFilesContinue from Python.\n",
              "  outputElement.steps = steps;\n",
              "\n",
              "  return _uploadFilesContinue(outputId);\n",
              "}\n",
              "\n",
              "// This is roughly an async generator (not supported in the browser yet),\n",
              "// where there are multiple asynchronous steps and the Python side is going\n",
              "// to poll for completion of each step.\n",
              "// This uses a Promise to block the python side on completion of each step,\n",
              "// then passes the result of the previous step as the input to the next step.\n",
              "function _uploadFilesContinue(outputId) {\n",
              "  const outputElement = document.getElementById(outputId);\n",
              "  const steps = outputElement.steps;\n",
              "\n",
              "  const next = steps.next(outputElement.lastPromiseValue);\n",
              "  return Promise.resolve(next.value.promise).then((value) => {\n",
              "    // Cache the last promise value to make it available to the next\n",
              "    // step of the generator.\n",
              "    outputElement.lastPromiseValue = value;\n",
              "    return next.value.response;\n",
              "  });\n",
              "}\n",
              "\n",
              "/**\n",
              " * Generator function which is called between each async step of the upload\n",
              " * process.\n",
              " * @param {string} inputId Element ID of the input file picker element.\n",
              " * @param {string} outputId Element ID of the output display.\n",
              " * @return {!Iterable<!Object>} Iterable of next steps.\n",
              " */\n",
              "function* uploadFilesStep(inputId, outputId) {\n",
              "  const inputElement = document.getElementById(inputId);\n",
              "  inputElement.disabled = false;\n",
              "\n",
              "  const outputElement = document.getElementById(outputId);\n",
              "  outputElement.innerHTML = '';\n",
              "\n",
              "  const pickedPromise = new Promise((resolve) => {\n",
              "    inputElement.addEventListener('change', (e) => {\n",
              "      resolve(e.target.files);\n",
              "    });\n",
              "  });\n",
              "\n",
              "  const cancel = document.createElement('button');\n",
              "  inputElement.parentElement.appendChild(cancel);\n",
              "  cancel.textContent = 'Cancel upload';\n",
              "  const cancelPromise = new Promise((resolve) => {\n",
              "    cancel.onclick = () => {\n",
              "      resolve(null);\n",
              "    };\n",
              "  });\n",
              "\n",
              "  // Wait for the user to pick the files.\n",
              "  const files = yield {\n",
              "    promise: Promise.race([pickedPromise, cancelPromise]),\n",
              "    response: {\n",
              "      action: 'starting',\n",
              "    }\n",
              "  };\n",
              "\n",
              "  cancel.remove();\n",
              "\n",
              "  // Disable the input element since further picks are not allowed.\n",
              "  inputElement.disabled = true;\n",
              "\n",
              "  if (!files) {\n",
              "    return {\n",
              "      response: {\n",
              "        action: 'complete',\n",
              "      }\n",
              "    };\n",
              "  }\n",
              "\n",
              "  for (const file of files) {\n",
              "    const li = document.createElement('li');\n",
              "    li.append(span(file.name, {fontWeight: 'bold'}));\n",
              "    li.append(span(\n",
              "        `(${file.type || 'n/a'}) - ${file.size} bytes, ` +\n",
              "        `last modified: ${\n",
              "            file.lastModifiedDate ? file.lastModifiedDate.toLocaleDateString() :\n",
              "                                    'n/a'} - `));\n",
              "    const percent = span('0% done');\n",
              "    li.appendChild(percent);\n",
              "\n",
              "    outputElement.appendChild(li);\n",
              "\n",
              "    const fileDataPromise = new Promise((resolve) => {\n",
              "      const reader = new FileReader();\n",
              "      reader.onload = (e) => {\n",
              "        resolve(e.target.result);\n",
              "      };\n",
              "      reader.readAsArrayBuffer(file);\n",
              "    });\n",
              "    // Wait for the data to be ready.\n",
              "    let fileData = yield {\n",
              "      promise: fileDataPromise,\n",
              "      response: {\n",
              "        action: 'continue',\n",
              "      }\n",
              "    };\n",
              "\n",
              "    // Use a chunked sending to avoid message size limits. See b/62115660.\n",
              "    let position = 0;\n",
              "    do {\n",
              "      const length = Math.min(fileData.byteLength - position, MAX_PAYLOAD_SIZE);\n",
              "      const chunk = new Uint8Array(fileData, position, length);\n",
              "      position += length;\n",
              "\n",
              "      const base64 = btoa(String.fromCharCode.apply(null, chunk));\n",
              "      yield {\n",
              "        response: {\n",
              "          action: 'append',\n",
              "          file: file.name,\n",
              "          data: base64,\n",
              "        },\n",
              "      };\n",
              "\n",
              "      let percentDone = fileData.byteLength === 0 ?\n",
              "          100 :\n",
              "          Math.round((position / fileData.byteLength) * 100);\n",
              "      percent.textContent = `${percentDone}% done`;\n",
              "\n",
              "    } while (position < fileData.byteLength);\n",
              "  }\n",
              "\n",
              "  // All done.\n",
              "  yield {\n",
              "    response: {\n",
              "      action: 'complete',\n",
              "    }\n",
              "  };\n",
              "}\n",
              "\n",
              "scope.google = scope.google || {};\n",
              "scope.google.colab = scope.google.colab || {};\n",
              "scope.google.colab._files = {\n",
              "  _uploadFiles,\n",
              "  _uploadFilesContinue,\n",
              "};\n",
              "})(self);\n",
              "</script> "
            ]
          },
          "metadata": {}
        },
        {
          "output_type": "stream",
          "name": "stdout",
          "text": [
            "Saving kaggle.json to kaggle.json\n"
          ]
        },
        {
          "output_type": "execute_result",
          "data": {
            "text/plain": [
              "{'kaggle.json': b'{\"username\":\"vladimir401011\",\"key\":\"e6b9eec8a00a0a7c2c3e5fcbd033ab06\"}'}"
            ]
          },
          "metadata": {},
          "execution_count": 1
        }
      ],
      "source": [
        "!pip install kagglehub\n",
        "\n",
        "from google.colab import files\n",
        "files.upload() # Загрузите файл kaggle.json"
      ]
    },
    {
      "cell_type": "code",
      "source": [
        "\n",
        "import pandas as pd\n",
        "import kagglehub\n",
        "import os\n",
        "\n",
        "import pandas as pd\n",
        "import kagglehub\n",
        "import os\n",
        "\n",
        "class Data_loading:\n",
        "    @staticmethod\n",
        "    def load_from_kaggle(dataset_path, filename, file_type='csv'):\n",
        "        \"\"\"\n",
        "        Загружает dataset из Kaggle используя kagglehub\n",
        "\n",
        "        Args:\n",
        "            dataset_path (str): путь к dataset на Kaggle\n",
        "            filename (str): название файла для загрузки\n",
        "            file_type (str): тип файла - 'csv' или 'json'\n",
        "\n",
        "        Returns:\n",
        "            pd.DataFrame: загруженный датафрейм\n",
        "        \"\"\"\n",
        "        download_path = kagglehub.dataset_download(dataset_path)\n",
        "        file_path = os.path.join(download_path, filename)\n",
        "\n",
        "        if file_type == 'csv':\n",
        "            return pd.read_csv(file_path)\n",
        "        elif file_type == 'json':\n",
        "            return pd.read_json(file_path)\n",
        "        else:\n",
        "            raise ValueError(\"Поддерживаются только 'csv' и 'json' форматы\")\n",
        "\n",
        "\n",
        "import kagglehub\n",
        "\n",
        "# Download latest version\n",
        "path = kagglehub.dataset_download(\"kaggle/recipe-ingredients-dataset\")\n",
        "\n",
        "print(\"Path to dataset files:\", path)\n",
        "print(\"\\nЗагруженные файлы:\")\n",
        "for file in os.listdir(path):\n",
        "    print(f\"📁 {file}\")"
      ],
      "metadata": {
        "colab": {
          "base_uri": "https://localhost:8080/"
        },
        "id": "KDv0xLb4N36B",
        "outputId": "ff7f974a-17b3-458f-8a6a-829a93571f9c"
      },
      "execution_count": 4,
      "outputs": [
        {
          "output_type": "stream",
          "name": "stdout",
          "text": [
            "Downloading from https://www.kaggle.com/api/v1/datasets/download/kaggle/recipe-ingredients-dataset?dataset_version_number=1...\n"
          ]
        },
        {
          "output_type": "stream",
          "name": "stderr",
          "text": [
            "100%|██████████| 2.23M/2.23M [00:00<00:00, 130MB/s]"
          ]
        },
        {
          "output_type": "stream",
          "name": "stdout",
          "text": [
            "Extracting files...\n",
            "Path to dataset files: /root/.cache/kagglehub/datasets/kaggle/recipe-ingredients-dataset/versions/1\n",
            "\n",
            "Загруженные файлы:\n",
            "📁 train.json\n",
            "📁 test.json\n"
          ]
        },
        {
          "output_type": "stream",
          "name": "stderr",
          "text": [
            "\n"
          ]
        }
      ]
    },
    {
      "cell_type": "markdown",
      "source": [
        "Так мы видим, что данный датасет пердставлен двумя json-файлами.               \n",
        "\"Обучающий\" train.json - содердит поле \"категирию\" (содержит порядка 40000 строк)         \n",
        "А \"Тестовый\" test.json - нужен для проверки обученных моделей (содержит порядка 10000)"
      ],
      "metadata": {
        "id": "NEX8CqoQlAEw"
      }
    },
    {
      "cell_type": "code",
      "source": [
        "# Загрузка обучающего датасета\n",
        "df_train = Data_loading.load_from_kaggle(\"kaggle/recipe-ingredients-dataset\", \"train.json\", \"json\")\n",
        "\n",
        "# Загрузка тестового датасета\n",
        "df_test = Data_loading.load_from_kaggle(\"kaggle/recipe-ingredients-dataset\", \"test.json\", \"json\")"
      ],
      "metadata": {
        "colab": {
          "base_uri": "https://localhost:8080/"
        },
        "id": "ooApZ2lMkT64",
        "outputId": "855d3083-1fab-4c63-a0f4-2340f4ae30cb"
      },
      "execution_count": 5,
      "outputs": [
        {
          "output_type": "stream",
          "name": "stdout",
          "text": [
            "Using Colab cache for faster access to the 'recipe-ingredients-dataset' dataset.\n",
            "Using Colab cache for faster access to the 'recipe-ingredients-dataset' dataset.\n"
          ]
        }
      ]
    },
    {
      "cell_type": "code",
      "source": [
        "\n",
        "\n",
        "# Просматриваем первые несколько строк датасета\n",
        "print(df_train.head())\n",
        "\n",
        "# Получаем общую информацию о датасете\n",
        "print(df_train.info())"
      ],
      "metadata": {
        "colab": {
          "base_uri": "https://localhost:8080/"
        },
        "id": "ekzHV86yke54",
        "outputId": "ea4fffe7-ea72-4a26-c578-57f64260f3d0"
      },
      "execution_count": 7,
      "outputs": [
        {
          "output_type": "stream",
          "name": "stdout",
          "text": [
            "      id      cuisine                                        ingredients\n",
            "0  10259        greek  [romaine lettuce, black olives, grape tomatoes...\n",
            "1  25693  southern_us  [plain flour, ground pepper, salt, tomatoes, g...\n",
            "2  20130     filipino  [eggs, pepper, salt, mayonaise, cooking oil, g...\n",
            "3  22213       indian                [water, vegetable oil, wheat, salt]\n",
            "4  13162       indian  [black pepper, shallots, cornflour, cayenne pe...\n",
            "<class 'pandas.core.frame.DataFrame'>\n",
            "RangeIndex: 39774 entries, 0 to 39773\n",
            "Data columns (total 3 columns):\n",
            " #   Column       Non-Null Count  Dtype \n",
            "---  ------       --------------  ----- \n",
            " 0   id           39774 non-null  int64 \n",
            " 1   cuisine      39774 non-null  object\n",
            " 2   ingredients  39774 non-null  object\n",
            "dtypes: int64(1), object(2)\n",
            "memory usage: 932.3+ KB\n",
            "None\n"
          ]
        }
      ]
    },
    {
      "cell_type": "markdown",
      "source": [
        "Для начала, 40000 строк - это многовато. Для обучения хватит и 3000.\n",
        "\n",
        "По возможности отберем классы (категории или кухни) пропорционально тому, как они представлены в датасете"
      ],
      "metadata": {
        "id": "7skPDEs20Dif"
      }
    },
    {
      "cell_type": "code",
      "source": [
        "# Стратифицированный отбор (сохраняет пропорции классов)\n",
        "from sklearn.model_selection import train_test_split\n",
        "\n",
        "# Функция возвращает две переменные. Функция делит датасет на 3000 отобраных строк\n",
        "# (это так называемая \"тестовая\" выбока) и всё остальное. Так как нам нужно\n",
        "# нужна только первая перемееная, то на второй переменной мы ставим знак нижнего\n",
        "# подчеркивания, и эта переменная, по правилам синтакиса в Python, использоваться\n",
        "# не будет\n",
        "df_limited, _ = train_test_split(df_train, train_size=3000,\n",
        "                                stratify=df_train['cuisine'], random_state=42)\n",
        "\n",
        "# Проверяем: дейстительно 3000 строк\n",
        "print(df_limited.info())"
      ],
      "metadata": {
        "colab": {
          "base_uri": "https://localhost:8080/"
        },
        "id": "oxNR8IYH0Ai4",
        "outputId": "7671c4d6-9e03-4fa4-9568-080010af12b2"
      },
      "execution_count": 8,
      "outputs": [
        {
          "output_type": "stream",
          "name": "stdout",
          "text": [
            "<class 'pandas.core.frame.DataFrame'>\n",
            "Index: 3000 entries, 33136 to 23167\n",
            "Data columns (total 3 columns):\n",
            " #   Column       Non-Null Count  Dtype \n",
            "---  ------       --------------  ----- \n",
            " 0   id           3000 non-null   int64 \n",
            " 1   cuisine      3000 non-null   object\n",
            " 2   ingredients  3000 non-null   object\n",
            "dtypes: int64(1), object(2)\n",
            "memory usage: 93.8+ KB\n",
            "None\n"
          ]
        }
      ]
    },
    {
      "cell_type": "markdown",
      "source": [
        "Вторая проблема с данными в том, что ингредиенты записаны в матрицы. Мы трижды преобразуем их следующим образом:\n",
        "1) Перобразуем матрицу в строку\n",
        "2) Преобзазуем строку в вектор-словарь [значение:вес] (функция \"fit\")\n",
        "3) Преобзуем все строки с векторами в одну общую матрицу (функция \"transform\")"
      ],
      "metadata": {
        "id": "N5CTN-hU0VKP"
      }
    },
    {
      "cell_type": "code",
      "source": [
        "# Преобразуй списки в текст:\n",
        "df_limited['ingredients_text'] = df_limited['ingredients'].apply(lambda x: ' '.join(x))\n",
        "\n",
        "# Векторизация: TF-IDF\n",
        "from sklearn.feature_extraction.text import TfidfVectorizer\n",
        "\n",
        "# Указываем оставить только  1000 самых частых ингредиентов (max_features=1000)\n",
        "# Считается, что редкие ингредиенты мало влияют на классификацию !!!\n",
        "# Удаляем английские союзы, как возможный шум (stop_words='english')\n",
        "tfidf = TfidfVectorizer(max_features=1000, stop_words='english')\n",
        "X = tfidf.fit_transform(df_limited['ingredients_text'])\n",
        "\n",
        "# Целевая переменная:\n",
        "y = df_limited['cuisine']"
      ],
      "metadata": {
        "id": "xS8Rq4Tku0xP"
      },
      "execution_count": 10,
      "outputs": []
    },
    {
      "cell_type": "markdown",
      "source": [
        "Мы имеем многоклассовую классификацию (несколько типов кухонь). Наши данные после преобразования - это разреженная матрица (sparse matrix) с 1000 признаками (ингредиенты) и 3000 образцов."
      ],
      "metadata": {
        "id": "Q984ets0DfeO"
      }
    },
    {
      "cell_type": "markdown",
      "source": [
        "Попробуем сравнить так: Бустовые модели протрив деревянных три на две\n",
        "\n",
        "Бустовые:\n",
        "  * CatBoost\n",
        "  * Классификатор градиентного бустинга\n",
        "  * Light Gradient Boosting Machine\n",
        "\n",
        "Деревянные:\n",
        "  * Классификатор Extra Trees\n",
        "  * Классификатор дерева решений"
      ],
      "metadata": {
        "id": "5tWhYtETEXu-"
      }
    },
    {
      "cell_type": "code",
      "source": [],
      "metadata": {
        "id": "_T6R1OTCDkud"
      },
      "execution_count": null,
      "outputs": []
    }
  ]
}