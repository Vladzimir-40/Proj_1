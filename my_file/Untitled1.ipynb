{
  "nbformat": 4,
  "nbformat_minor": 0,
  "metadata": {
    "colab": {
      "provenance": [],
      "authorship_tag": "ABX9TyPPuwUkMoTZiFR5te6z+MTs",
      "include_colab_link": true
    },
    "kernelspec": {
      "name": "python3",
      "display_name": "Python 3"
    },
    "language_info": {
      "name": "python"
    }
  },
  "cells": [
    {
      "cell_type": "markdown",
      "metadata": {
        "id": "view-in-github",
        "colab_type": "text"
      },
      "source": [
        "<a href=\"https://colab.research.google.com/github/Vladzimir-40/Proj_1/blob/main/my_file/Untitled1.ipynb\" target=\"_parent\"><img src=\"https://colab.research.google.com/assets/colab-badge.svg\" alt=\"Open In Colab\"/></a>"
      ]
    },
    {
      "cell_type": "code",
      "execution_count": null,
      "metadata": {
        "id": "NW0lGpvyyOuC",
        "colab": {
          "base_uri": "https://localhost:8080/"
        },
        "outputId": "5033bace-f024-4d9e-816e-9a721b69d093"
      },
      "outputs": [
        {
          "output_type": "stream",
          "name": "stdout",
          "text": [
            "['Те*уг*ль*ик', 'Кр*г', 'Кв*др*т', 'Ше*ти*го*ьн*к', 'Тр*пе*ия']\n"
          ]
        }
      ],
      "source": [
        "l_str=['Треугольник','Круг','Квадрат','Шестиугольник','Трапеция']\n",
        "\n",
        "i=0\n",
        "while i < len(l_str):\n",
        "  w_str=l_str[i]\n",
        "  j=3\n",
        "  while j < len(w_str):\n",
        "    w_str = w_str[:j-1] + '*' + w_str[j:]\n",
        "    j += 3\n",
        "  else:\n",
        "    l_str.pop(i)\n",
        "    l_str.insert(i, w_str)\n",
        "  i += 1\n",
        "print(l_str)"
      ]
    },
    {
      "cell_type": "markdown",
      "source": [
        "Сложность алгоритма O(N^2) т.к. переменная i меняется от 1 до N и при каждом изменении i, переменная j тоже меняется от 1 до N. Но по условию задачи список должен был содердать только 5 строк, а значит  сложность алгоритма подразумавалось линейная O(N)."
      ],
      "metadata": {
        "id": "_GE4tEf6MqUy"
      }
    }
  ]
}